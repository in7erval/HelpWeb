{
  "nbformat": 4,
  "nbformat_minor": 0,
  "metadata": {
    "accelerator": "GPU",
    "colab": {
      "name": "face_detection.ipynb",
      "provenance": [],
      "collapsed_sections": [],
      "include_colab_link": true
    },
    "kernelspec": {
      "display_name": "Python 3",
      "name": "python3"
    }
  },
  "cells": [
    {
      "cell_type": "markdown",
      "metadata": {
        "id": "view-in-github",
        "colab_type": "text"
      },
      "source": [
        "<a href=\"https://colab.research.google.com/github/in7erval/HelpWeb/blob/master/face_detection.ipynb\" target=\"_parent\"><img src=\"https://colab.research.google.com/assets/colab-badge.svg\" alt=\"Open In Colab\"/></a>"
      ]
    },
    {
      "cell_type": "markdown",
      "metadata": {
        "id": "Lb6VhKzs1mWF"
      },
      "source": [
        "Для начала установим и подключим необходимую библиотеку"
      ]
    },
    {
      "cell_type": "code",
      "metadata": {
        "colab": {
          "background_save": true
        },
        "id": "ird2PGfF9I-L",
        "outputId": "549a8f94-e79c-4b21-da9a-848502c5e433"
      },
      "source": [
        "!pip3 install face_recognition"
      ],
      "execution_count": null,
      "outputs": [
        {
          "output_type": "stream",
          "text": [
            "Collecting face_recognition\n",
            "  Downloading https://files.pythonhosted.org/packages/1e/95/f6c9330f54ab07bfa032bf3715c12455a381083125d8880c43cbe76bb3d0/face_recognition-1.3.0-py2.py3-none-any.whl\n",
            "Requirement already satisfied: numpy in /usr/local/lib/python3.6/dist-packages (from face_recognition) (1.18.5)\n",
            "Requirement already satisfied: dlib>=19.7 in /usr/local/lib/python3.6/dist-packages (from face_recognition) (19.18.0)\n",
            "Requirement already satisfied: Click>=6.0 in /usr/local/lib/python3.6/dist-packages (from face_recognition) (7.1.2)\n",
            "Collecting face-recognition-models>=0.3.0\n",
            "\u001b[?25l  Downloading https://files.pythonhosted.org/packages/cf/3b/4fd8c534f6c0d1b80ce0973d01331525538045084c73c153ee6df20224cf/face_recognition_models-0.3.0.tar.gz (100.1MB)\n",
            "\u001b[K     |████████████████████████████████| 100.2MB 42kB/s \n",
            "\u001b[?25hRequirement already satisfied: Pillow in /usr/local/lib/python3.6/dist-packages (from face_recognition) (7.0.0)\n",
            "Building wheels for collected packages: face-recognition-models\n",
            "  Building wheel for face-recognition-models (setup.py) ... \u001b[?25l\u001b[?25hdone\n",
            "  Created wheel for face-recognition-models: filename=face_recognition_models-0.3.0-py2.py3-none-any.whl size=100566173 sha256=6acd181e9634b8e3a301e745b40ca93fc2ff7d306e0c64b9e907a579f283ea98\n",
            "  Stored in directory: /root/.cache/pip/wheels/d2/99/18/59c6c8f01e39810415c0e63f5bede7d83dfb0ffc039865465f\n",
            "Successfully built face-recognition-models\n",
            "Installing collected packages: face-recognition-models, face-recognition\n",
            "Successfully installed face-recognition-1.3.0 face-recognition-models-0.3.0\n"
          ],
          "name": "stdout"
        }
      ]
    },
    {
      "cell_type": "code",
      "metadata": {
        "id": "3EPQNwoK9392"
      },
      "source": [
        "import face_recognition as det           # основная библиотека\n",
        "from PIL import Image, ImageDraw   # библиотека для работы с изображениями\n",
        "import numpy as np                          # математическая библиотека для удобной работы с массивами (как в Matlab)\n"
      ],
      "execution_count": null,
      "outputs": []
    },
    {
      "cell_type": "markdown",
      "metadata": {
        "id": "JjBbeyQX_ccA"
      },
      "source": [
        "Вытащим изображения в текущий репозиторий"
      ]
    },
    {
      "cell_type": "code",
      "metadata": {
        "colab": {
          "base_uri": "https://localhost:8080/"
        },
        "id": "d-MyvPWwlog6",
        "outputId": "df4c43cf-55e0-46a3-ed42-d298f48d59d9"
      },
      "source": [
        "from google.colab import drive\r\n",
        "drive.mount('/content/gdrive')\r\n",
        "!pip freeze --local > /content/gdrive/My\\ Drive/colab_installed.txt"
      ],
      "execution_count": null,
      "outputs": [
        {
          "output_type": "stream",
          "text": [
            "Mounted at /content/gdrive\n"
          ],
          "name": "stdout"
        }
      ]
    },
    {
      "cell_type": "code",
      "metadata": {
        "id": "UCAzmI9l_gnU"
      },
      "source": [
        "!cp gdrive/MyDrive/images/*.jpg ."
      ],
      "execution_count": null,
      "outputs": []
    },
    {
      "cell_type": "markdown",
      "metadata": {
        "id": "cLn6no5oCgyl"
      },
      "source": [
        "Зададим название изображения для распознавания"
      ]
    },
    {
      "cell_type": "code",
      "metadata": {
        "id": "FqDjzrCsCobD"
      },
      "source": [
        "image_name = \"manyfaces.jpg\""
      ],
      "execution_count": null,
      "outputs": []
    },
    {
      "cell_type": "markdown",
      "metadata": {
        "id": "cA07xZNT_0oh"
      },
      "source": [
        "Выполним поиск лиц на изображении с помощью гистограммы направленных градиентов (hog)"
      ]
    },
    {
      "cell_type": "code",
      "metadata": {
        "id": "1T9azngiETU8"
      },
      "source": [
        "image_hog = det.load_image_file(image_name)\n",
        "face_locations_hog = det.face_locations(image_hog)\n",
        "face_locations_hog"
      ],
      "execution_count": null,
      "outputs": []
    },
    {
      "cell_type": "markdown",
      "metadata": {
        "id": "fqRt9ftEEVir"
      },
      "source": [
        "Покажем лица, выделив их на изображении"
      ]
    },
    {
      "cell_type": "code",
      "metadata": {
        "id": "apz_9JFy_5ig"
      },
      "source": [
        "img = Image.open(image_name)\n",
        "for face_location in face_locations_hog:\n",
        "  top, right, bottom, left = face_location\n",
        "  ImageDraw.Draw(img).rectangle((left, top, right, bottom), outline='blue', width=2)\n",
        "img"
      ],
      "execution_count": null,
      "outputs": []
    },
    {
      "cell_type": "markdown",
      "metadata": {
        "id": "ztvi0-bUAWCF"
      },
      "source": [
        "Выполним поиск лиц на изображении с помощью сверточной сети"
      ]
    },
    {
      "cell_type": "code",
      "metadata": {
        "id": "xffvU0WME5zR"
      },
      "source": [
        "image_cnn = det.load_image_file(image_name)\n",
        "face_locations_cnn = det.face_locations(image_cnn, model='cnn')\n",
        "face_locations_cnn"
      ],
      "execution_count": null,
      "outputs": []
    },
    {
      "cell_type": "markdown",
      "metadata": {
        "id": "Tlx_h30jE7jP"
      },
      "source": [
        "И так же выделим их на изображении"
      ]
    },
    {
      "cell_type": "code",
      "metadata": {
        "id": "QnwXts1iAJSH"
      },
      "source": [
        "img = Image.open(image_name)\n",
        "for face_location in face_locations_cnn:\n",
        "  top, right, bottom, left = face_location\n",
        "  ImageDraw.Draw(img).rectangle((left, top, right, bottom), outline='blue', width=2)\n",
        "img"
      ],
      "execution_count": null,
      "outputs": []
    },
    {
      "cell_type": "markdown",
      "metadata": {
        "id": "zH6_l63zHMad"
      },
      "source": [
        "Видим, что свёрточная нейронная сеть работает более точно, но медленней. "
      ]
    },
    {
      "cell_type": "markdown",
      "metadata": {
        "id": "JZTB5-qKQQ8W"
      },
      "source": [
        "В методе можно регулировать величину увеличения разрешения (по умолчанию = 1). Рассмотрим другой пример с более мелкими лицами. Для начала оставим всё как было."
      ]
    },
    {
      "cell_type": "code",
      "metadata": {
        "id": "ROk6J0FJSPKZ"
      },
      "source": [
        "image_name = \"9may.jpg\"\n",
        "img = Image.open(image_name)\n",
        "img"
      ],
      "execution_count": null,
      "outputs": []
    },
    {
      "cell_type": "code",
      "metadata": {
        "id": "94tNg5HcP8R4"
      },
      "source": [
        "face_locations_hog = det.face_locations(np.array(img), model='hog')\n",
        "for face_location in face_locations_hog:\n",
        "  top, right, bottom, left = face_location\n",
        "  ImageDraw.Draw(img).rectangle((left, top, right, bottom), outline='blue', width=2)\n",
        "face_locations_hog"
      ],
      "execution_count": null,
      "outputs": []
    },
    {
      "cell_type": "markdown",
      "metadata": {
        "id": "0PeKzLJoSJJC"
      },
      "source": [
        "Видно, что программа не нашла ни одного лица на фото. Увеличим разрешение в 3 раза."
      ]
    },
    {
      "cell_type": "code",
      "metadata": {
        "id": "epjdy0MiSbjN"
      },
      "source": [
        "img = Image.open(image_name)\n",
        "face_locations_hog = det.face_locations(np.array(img), number_of_times_to_upsample=2, model='hog')\n",
        "len(face_locations_hog)"
      ],
      "execution_count": null,
      "outputs": []
    },
    {
      "cell_type": "markdown",
      "metadata": {
        "id": "TSkDY29KSlBQ"
      },
      "source": [
        "Нашлось целых вот столько лиц ^ . ( Если запускать несколько раз, будет получаться разное количество, т.к. веса изначально задаются рандомно). Прогоним поиск лиц 10 раз, чтобы найти максимальное количество лиц на фото. (Занимает примерно 5 минут, так что надо ждать..)"
      ]
    },
    {
      "cell_type": "code",
      "metadata": {
        "id": "7OERv3iOQh1M"
      },
      "source": [
        "max_faces_found = 0\r\n",
        "max_faces = list()\r\n",
        "img = Image.open(image_name)\r\n",
        "for i in range(10):\r\n",
        "  face_locations_hog = det.face_locations(np.array(img), number_of_times_to_upsample=3, model='hog')\r\n",
        "  cur_faces_found = len(face_locations_hog)\r\n",
        "  if cur_faces_found > max_faces_found:\r\n",
        "    max_faces_found = cur_faces_found\r\n",
        "    max_faces = face_locations_hog\r\n",
        "print('Нашлось лиц: %d' % max_faces_found)"
      ],
      "execution_count": null,
      "outputs": []
    },
    {
      "cell_type": "markdown",
      "metadata": {
        "id": "vp_7icG6RoCq"
      },
      "source": [
        "Для наглядности покажем найденные лица на фото"
      ]
    },
    {
      "cell_type": "code",
      "metadata": {
        "id": "GSHtOiy7SsLX"
      },
      "source": [
        "img = Image.open(image_name)\r\n",
        "for face_location in max_faces:\r\n",
        "  top, right, bottom, left = face_location\r\n",
        "  ImageDraw.Draw(img).rectangle((left, top, right, bottom), outline='yellow', width=2)\r\n",
        "img"
      ],
      "execution_count": null,
      "outputs": []
    }
  ]
}